{
 "cells": [
  {
   "cell_type": "code",
   "execution_count": 1,
   "id": "77fa9c97",
   "metadata": {
    "execution": {
     "iopub.execute_input": "2024-10-23T00:01:23.459693Z",
     "iopub.status.busy": "2024-10-23T00:01:23.459093Z",
     "iopub.status.idle": "2024-10-23T00:01:23.606951Z",
     "shell.execute_reply": "2024-10-23T00:01:23.605929Z"
    },
    "jupyter": {
     "source_hidden": true
    },
    "papermill": {
     "duration": 0.156976,
     "end_time": "2024-10-23T00:01:23.608282",
     "exception": false,
     "start_time": "2024-10-23T00:01:23.451306",
     "status": "completed"
    },
    "tags": []
   },
   "outputs": [],
   "source": [
    "from pyspark.sql import SparkSession"
   ]
  },
  {
   "cell_type": "code",
   "execution_count": 2,
   "id": "155b5695",
   "metadata": {
    "execution": {
     "iopub.execute_input": "2024-10-23T00:01:23.624491Z",
     "iopub.status.busy": "2024-10-23T00:01:23.624189Z",
     "iopub.status.idle": "2024-10-23T00:01:27.223965Z",
     "shell.execute_reply": "2024-10-23T00:01:27.222852Z"
    },
    "jupyter": {
     "source_hidden": true
    },
    "papermill": {
     "duration": 3.610804,
     "end_time": "2024-10-23T00:01:27.225502",
     "exception": false,
     "start_time": "2024-10-23T00:01:23.614698",
     "status": "completed"
    },
    "tags": []
   },
   "outputs": [
    {
     "name": "stderr",
     "output_type": "stream",
     "text": [
      "/usr/local/spark/bin/load-spark-env.sh: line 68: ps: command not found\n"
     ]
    },
    {
     "name": "stderr",
     "output_type": "stream",
     "text": [
      "Setting default log level to \"WARN\".\n",
      "To adjust logging level use sc.setLogLevel(newLevel). For SparkR, use setLogLevel(newLevel).\n"
     ]
    },
    {
     "name": "stderr",
     "output_type": "stream",
     "text": [
      "24/10/23 00:01:25 WARN NativeCodeLoader: Unable to load native-hadoop library for your platform... using builtin-java classes where applicable\n"
     ]
    }
   ],
   "source": [
    "spark = SparkSession.builder \\\n",
    "    .appName(\"MyApp\") \\\n",
    "    .config(\"spark.pyspark.python\", \"C:/Users/alexa/AppData/Local/Programs/Python/Python39/python.exe\") \\\n",
    "    .config(\"spark.pyspark.driver.python\", \"C:/Users/alexa/AppData/Local/Programs/Python/Python39/python.exe\") \\\n",
    "    .getOrCreate()"
   ]
  },
  {
   "cell_type": "code",
   "execution_count": 3,
   "id": "2ae465d4",
   "metadata": {
    "execution": {
     "iopub.execute_input": "2024-10-23T00:01:27.246798Z",
     "iopub.status.busy": "2024-10-23T00:01:27.246337Z",
     "iopub.status.idle": "2024-10-23T00:01:31.760705Z",
     "shell.execute_reply": "2024-10-23T00:01:31.759730Z"
    },
    "jupyter": {
     "source_hidden": true
    },
    "papermill": {
     "duration": 4.527791,
     "end_time": "2024-10-23T00:01:31.762054",
     "exception": false,
     "start_time": "2024-10-23T00:01:27.234263",
     "status": "completed"
    },
    "tags": []
   },
   "outputs": [
    {
     "name": "stderr",
     "output_type": "stream",
     "text": [
      "\r",
      "[Stage 0:>                                                          (0 + 1) / 1]\r",
      "\r",
      "                                                                                \r"
     ]
    }
   ],
   "source": [
    "# Caminho para os dados na camada silver (parquet)\n",
    "silver_path = '/opt/airflow/silver_layer'\n",
    "\n",
    "# Carregar os dados particionados da camada silver\n",
    "df_silver = spark.read.parquet(silver_path)\n",
    "\n",
    "# Agrupamento por tipo de cervejaria e estado\n",
    "df_gold = df_silver.groupBy(\"state\", \"brewery_type\").count()"
   ]
  },
  {
   "cell_type": "code",
   "execution_count": 4,
   "id": "54b50564",
   "metadata": {
    "execution": {
     "iopub.execute_input": "2024-10-23T00:01:31.782090Z",
     "iopub.status.busy": "2024-10-23T00:01:31.781718Z",
     "iopub.status.idle": "2024-10-23T00:01:31.786887Z",
     "shell.execute_reply": "2024-10-23T00:01:31.785817Z"
    },
    "jupyter": {
     "source_hidden": true
    },
    "papermill": {
     "duration": 0.018398,
     "end_time": "2024-10-23T00:01:31.788418",
     "exception": false,
     "start_time": "2024-10-23T00:01:31.770020",
     "status": "completed"
    },
    "tags": []
   },
   "outputs": [],
   "source": [
    "gold_path = '/opt/airflow/gold_layer'"
   ]
  },
  {
   "cell_type": "code",
   "execution_count": 5,
   "id": "f112cc2a",
   "metadata": {
    "execution": {
     "iopub.execute_input": "2024-10-23T00:01:31.812785Z",
     "iopub.status.busy": "2024-10-23T00:01:31.811990Z",
     "iopub.status.idle": "2024-10-23T00:01:32.083296Z",
     "shell.execute_reply": "2024-10-23T00:01:32.082286Z"
    },
    "jupyter": {
     "source_hidden": true
    },
    "papermill": {
     "duration": 0.283431,
     "end_time": "2024-10-23T00:01:32.084466",
     "exception": false,
     "start_time": "2024-10-23T00:01:31.801035",
     "status": "completed"
    },
    "tags": [],
    "vscode": {
     "languageId": "shellscript"
    }
   },
   "outputs": [],
   "source": [
    "rm -rf /opt/airflow/gold_layer/*"
   ]
  },
  {
   "cell_type": "code",
   "execution_count": 6,
   "id": "b0a45291",
   "metadata": {
    "execution": {
     "iopub.execute_input": "2024-10-23T00:01:32.100030Z",
     "iopub.status.busy": "2024-10-23T00:01:32.099765Z",
     "iopub.status.idle": "2024-10-23T00:01:37.071447Z",
     "shell.execute_reply": "2024-10-23T00:01:37.070439Z"
    },
    "jupyter": {
     "source_hidden": true
    },
    "papermill": {
     "duration": 4.982416,
     "end_time": "2024-10-23T00:01:37.072783",
     "exception": false,
     "start_time": "2024-10-23T00:01:32.090367",
     "status": "completed"
    },
    "tags": []
   },
   "outputs": [
    {
     "name": "stderr",
     "output_type": "stream",
     "text": [
      "\r",
      "[Stage 1:>                                                          (0 + 8) / 8]\r"
     ]
    },
    {
     "name": "stderr",
     "output_type": "stream",
     "text": [
      "\r",
      "[Stage 1:=======>                                                   (1 + 7) / 8]\r"
     ]
    },
    {
     "name": "stderr",
     "output_type": "stream",
     "text": [
      "\r",
      "                                                                                \r"
     ]
    }
   ],
   "source": [
    "df_gold.write.mode('append').parquet(gold_path)"
   ]
  },
  {
   "cell_type": "code",
   "execution_count": 7,
   "id": "78d49421",
   "metadata": {
    "execution": {
     "iopub.execute_input": "2024-10-23T00:01:37.096279Z",
     "iopub.status.busy": "2024-10-23T00:01:37.095953Z",
     "iopub.status.idle": "2024-10-23T00:01:37.576855Z",
     "shell.execute_reply": "2024-10-23T00:01:37.575946Z"
    },
    "jupyter": {
     "source_hidden": true
    },
    "papermill": {
     "duration": 0.497945,
     "end_time": "2024-10-23T00:01:37.578131",
     "exception": false,
     "start_time": "2024-10-23T00:01:37.080186",
     "status": "completed"
    },
    "tags": []
   },
   "outputs": [],
   "source": [
    "spark.stop()"
   ]
  }
 ],
 "metadata": {
  "kernelspec": {
   "display_name": "Python 3",
   "language": "python",
   "name": "python3"
  },
  "language_info": {
   "codemirror_mode": {
    "name": "ipython",
    "version": 3
   },
   "file_extension": ".py",
   "mimetype": "text/x-python",
   "name": "python",
   "nbconvert_exporter": "python",
   "pygments_lexer": "ipython3",
   "version": "3.11.5"
  },
  "papermill": {
   "default_parameters": {},
   "duration": 18.493756,
   "end_time": "2024-10-23T00:01:40.203386",
   "environment_variables": {},
   "exception": null,
   "input_path": "/opt/airflow/jobs/python/gold/load_data.ipynb",
   "output_path": "/opt/airflow/jobs/python/gold/load_data_output.ipynb",
   "parameters": {},
   "start_time": "2024-10-23T00:01:21.709630",
   "version": "2.6.0"
  }
 },
 "nbformat": 4,
 "nbformat_minor": 5
}